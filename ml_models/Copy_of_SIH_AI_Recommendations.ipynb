{
  "nbformat": 4,
  "nbformat_minor": 0,
  "metadata": {
    "colab": {
      "provenance": []
    },
    "kernelspec": {
      "name": "python3",
      "display_name": "Python 3"
    },
    "language_info": {
      "name": "python"
    }
  },
  "cells": [
    {
      "cell_type": "code",
      "execution_count": null,
      "metadata": {
        "id": "H82kwBuJH6A1"
      },
      "outputs": [],
      "source": [
        "import pandas as pd\n",
        "import joblib"
      ]
    },
    {
      "cell_type": "code",
      "source": [
        "multi_model = joblib.load(\"SIH_predict (2).pkl\")\n",
        "scaler_y = joblib.load(\"predict_scaler (2).pkl\")\n",
        "x_columns = joblib.load(\"x_columns (2).pkl\")"
      ],
      "metadata": {
        "id": "SGp4cLP5IJib"
      },
      "execution_count": null,
      "outputs": []
    },
    {
      "cell_type": "code",
      "source": [
        "new_data = pd.DataFrame({\n",
        "    'Amount (tons)': [150],\n",
        "    'Transport Distance (km)': [200],\n",
        "    'Material_Aluminium': [1],\n",
        "    'Material_Copper': [0],\n",
        "    'Route_Ore': [1],\n",
        "    'Route_Recycled': [0],\n",
        "    'Route_Both': [0],\n",
        "    'Energy Source_Coal': [1],\n",
        "    'Energy Source_Electricity': [0],\n",
        "    'Energy Source_Both': [0]\n",
        "})"
      ],
      "metadata": {
        "id": "fv_P1pLuIcyK"
      },
      "execution_count": null,
      "outputs": []
    },
    {
      "cell_type": "code",
      "source": [
        "new_data = new_data.reindex(columns=x_columns, fill_value=0)"
      ],
      "metadata": {
        "id": "myxFxD2jJZHS"
      },
      "execution_count": null,
      "outputs": []
    },
    {
      "cell_type": "code",
      "source": [
        "def predict_cf_cs_gwp(data):\n",
        "    pred_scaled = multi_model.predict(data)\n",
        "    pred = scaler_y.inverse_transform(pred_scaled)\n",
        "    return pred[0][0], pred[0][1], pred[0][2]"
      ],
      "metadata": {
        "id": "PODNVH3oJdUl"
      },
      "execution_count": null,
      "outputs": []
    },
    {
      "cell_type": "code",
      "source": [
        "carbon_fp, circularity_score, gwp = predict_cf_cs_gwp(new_data)"
      ],
      "metadata": {
        "id": "FRRdqcTOJn0M"
      },
      "execution_count": null,
      "outputs": []
    },
    {
      "cell_type": "code",
      "source": [
        "recommendations = []\n",
        "\n",
        "alt1 = new_data.copy()\n",
        "alt1[['Route_Ore','Route_Recycled','Route_Both']] = [0,1,0]\n",
        "cf_alt1 , cs_alt1 , gwp_alt1 = predict_cf_cs_gwp(alt1)\n",
        "if cf_alt1 < carbon_fp:\n",
        "    saving1 = ((carbon_fp - cf_alt1)/carbon_fp) * 100\n",
        "    saving2 = ((gwp - gwp_alt1)/gwp) * 100\n",
        "    recommendations.append(f\"Switch to recycled to save {saving1:.1f}% CO₂ emissions and Global Warming Potential by {saving2:.2f}%\")\n",
        "\n",
        "alt2 = new_data.copy()\n",
        "alt2[['Energy Source_Coal','Energy Source_Electricity','Energy Source_Both']] = [0,1,0]\n",
        "cf_alt2, cs_alt2 ,gwp_alt2 = predict_cf_cs_gwp(alt2)\n",
        "if cf_alt2 < carbon_fp:\n",
        "    saving1 = ((carbon_fp - cf_alt2)/carbon_fp) * 100\n",
        "    saving2 = ((gwp - gwp_alt2)/gwp) * 100\n",
        "    recommendations.append(f\"Switch to electricity to save {saving1:.1f}% CO₂ emissions and Global Warming Potential by {saving2:.1f}%\")\n",
        "\n",
        "alt3 = new_data.copy()\n",
        "alt3['Transport Distance (km)'] = alt3['Transport Distance (km)'] * 0.5\n",
        "cf_alt3, cs_alt3 , gwp_alt3 = predict_cf_cs_gwp(alt3)\n",
        "if cf_alt3 < carbon_fp:\n",
        "    saving1 = ((carbon_fp - cf_alt3)/carbon_fp) * 100\n",
        "    saving2 = ((gwp - gwp_alt3)/gwp) * 100\n",
        "    recommendations.append(f\"Reduce transport distance by 50% to save {saving1:.1f}% CO₂ emissions and Global warming Potential by {saving2:.1f}%\")\n",
        "\n",
        "if cs_alt1 > circularity_score:\n",
        "    gain = cs_alt1 - circularity_score\n",
        "    recommendations.append(f\"Switch to recycled to boost circularity score by +{gain:.1f}\")\n",
        "\n",
        "\n",
        "print(\"AI Recommendations: \")\n",
        "for r in recommendations:\n",
        "    print(r)"
      ],
      "metadata": {
        "colab": {
          "base_uri": "https://localhost:8080/"
        },
        "id": "n9pB4Xx5Jvcg",
        "outputId": "b495f717-2a22-476f-f476-60a7ffe50e34"
      },
      "execution_count": null,
      "outputs": [
        {
          "output_type": "stream",
          "name": "stdout",
          "text": [
            "AI Recommendations: \n",
            "Switch to recycled to save 88.6% CO₂ emissions and Global Warming Potential by 90.39%\n",
            "Switch to electricity to save 36.5% CO₂ emissions and Global Warming Potential by 9.9%\n",
            "Switch to recycled to boost circularity score by +82.2\n"
          ]
        }
      ]
    },
    {
      "cell_type": "code",
      "source": [],
      "metadata": {
        "id": "cnU5IHkrJ3vK"
      },
      "execution_count": null,
      "outputs": []
    }
  ]
}